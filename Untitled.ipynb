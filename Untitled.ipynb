{
 "cells": [
  {
   "cell_type": "code",
   "execution_count": 1,
   "id": "77860dbe-4e6b-47bf-849f-45c95c1251aa",
   "metadata": {},
   "outputs": [],
   "source": [
    "from openmm import unit"
   ]
  },
  {
   "cell_type": "code",
   "execution_count": 2,
   "id": "3273a3b7-b93e-4a06-a172-64752308c140",
   "metadata": {},
   "outputs": [],
   "source": [
    "class Atom():\n",
    "    def __init__(self, name,radius):\n",
    "        self.initial = name\n",
    "        self.r = radius\n",
    "    def dame_volumen(self):\n",
    "        return (4*3.1416*(self.r)**3)"
   ]
  },
  {
   "cell_type": "code",
   "execution_count": 3,
   "id": "fb915247-3dc1-4704-9f26-fd175e21c54d",
   "metadata": {},
   "outputs": [],
   "source": [
    "obj_atom = Atom('Na', 11*unit.angstroms)"
   ]
  },
  {
   "cell_type": "code",
   "execution_count": 4,
   "id": "87bb1de3-8e7e-46ab-abc8-4145452add33",
   "metadata": {},
   "outputs": [
    {
     "data": {
      "text/plain": [
       "Quantity(value=11, unit=angstrom)"
      ]
     },
     "execution_count": 4,
     "metadata": {},
     "output_type": "execute_result"
    }
   ],
   "source": [
    "obj_atom.r"
   ]
  },
  {
   "cell_type": "code",
   "execution_count": 5,
   "id": "ff5d58ee-5363-4d23-87dd-dbc7905a1f12",
   "metadata": {},
   "outputs": [
    {
     "data": {
      "text/plain": [
       "'Na'"
      ]
     },
     "execution_count": 5,
     "metadata": {},
     "output_type": "execute_result"
    }
   ],
   "source": [
    "obj_atom.initial"
   ]
  },
  {
   "cell_type": "code",
   "execution_count": 6,
   "id": "3d1b9b31-8f5e-4582-a5dd-9e16698aa3eb",
   "metadata": {},
   "outputs": [
    {
     "data": {
      "text/plain": [
       "Quantity(value=16725.8784, unit=angstrom**3)"
      ]
     },
     "execution_count": 6,
     "metadata": {},
     "output_type": "execute_result"
    }
   ],
   "source": [
    "obj_atom.dame_volumen()"
   ]
  },
  {
   "cell_type": "code",
   "execution_count": 7,
   "id": "9bbbd9bd-2a23-4f4e-afd3-d5db5fe7bf0c",
   "metadata": {},
   "outputs": [],
   "source": [
    "class Protein():\n",
    "    def __init__(self, name, molecular_weight):\n",
    "        self.initial = name\n",
    "        self.mw = molecular_weight\n",
    "    def dame_mw_dim(self):\n",
    "        return(self.mw*2)"
   ]
  },
  {
   "cell_type": "code",
   "execution_count": 8,
   "id": "edca1516-df18-41f1-9400-7a2135186453",
   "metadata": {},
   "outputs": [],
   "source": [
    "obj_protein = Protein('TPI', 26000*unit.daltons)"
   ]
  },
  {
   "cell_type": "code",
   "execution_count": 9,
   "id": "bb75eaeb-e9f4-457e-b608-6d7d2ba753d9",
   "metadata": {},
   "outputs": [
    {
     "data": {
      "text/plain": [
       "'TPI'"
      ]
     },
     "execution_count": 9,
     "metadata": {},
     "output_type": "execute_result"
    }
   ],
   "source": [
    "obj_protein.initial"
   ]
  },
  {
   "cell_type": "code",
   "execution_count": 10,
   "id": "76b011e5-32f8-4adc-9d2f-4c570cde2831",
   "metadata": {},
   "outputs": [
    {
     "data": {
      "text/plain": [
       "Quantity(value=26000, unit=dalton)"
      ]
     },
     "execution_count": 10,
     "metadata": {},
     "output_type": "execute_result"
    }
   ],
   "source": [
    "obj_protein.mw"
   ]
  },
  {
   "cell_type": "code",
   "execution_count": 12,
   "id": "6d6945a2-0adb-417b-9941-96960e1a5633",
   "metadata": {},
   "outputs": [
    {
     "data": {
      "text/plain": [
       "Quantity(value=52000, unit=dalton)"
      ]
     },
     "execution_count": 12,
     "metadata": {},
     "output_type": "execute_result"
    }
   ],
   "source": [
    "obj_protein.dame_mw_dim()"
   ]
  },
  {
   "cell_type": "code",
   "execution_count": null,
   "id": "1ecec576-bad1-46a2-96ee-8964af862076",
   "metadata": {},
   "outputs": [],
   "source": []
  },
  {
   "cell_type": "code",
   "execution_count": null,
   "id": "ae75eeef-9cfc-4414-968c-c913e7a9a352",
   "metadata": {},
   "outputs": [],
   "source": []
  },
  {
   "cell_type": "code",
   "execution_count": null,
   "id": "6a24bb75-736a-4028-8479-4e105a07401b",
   "metadata": {},
   "outputs": [],
   "source": []
  },
  {
   "cell_type": "code",
   "execution_count": null,
   "id": "b8d1193e-10d8-441d-9e23-cbd77252f046",
   "metadata": {},
   "outputs": [],
   "source": []
  },
  {
   "cell_type": "code",
   "execution_count": null,
   "id": "19812cc5-a484-471e-882b-9994997eeef3",
   "metadata": {},
   "outputs": [],
   "source": []
  },
  {
   "cell_type": "code",
   "execution_count": null,
   "id": "e90ede26-d153-4866-8407-0139d69a5b94",
   "metadata": {},
   "outputs": [],
   "source": [
    "masas_atomicas = {\n",
    "    'Gly': 75.07,\n",
    "    'Ala': 89.09,\n",
    "    'Val': 117.15,\n",
    "    'Leu': 131.17,\n",
    "    'Ile': 131.17,\n",
    "    'Ser': 105.09,\n",
    "    'Thr': 119.12,\n",
    "    'Cys': 121.16,\n",
    "    'Met': 149.21,\n",
    "    'Pro': 115.13,\n",
    "    'Phe': 165.19,\n",
    "    'Tyr': 181.19,\n",
    "    'Trp': 204.23,\n",
    "    'Lys': 146.19,\n",
    "    'Arg': 174.20,\n",
    "    'His': 155.16,\n",
    "    'Asp': 133.10,\n",
    "    'Glu': 147.13,\n",
    "    'Asn': 132.12,\n",
    "    'Gln': 146.15\n",
    "}\n",
    "\n",
    "secuencia_proteina = \"Ala-Ser-Cys-Leu\"\n",
    "\n",
    "peso_molecular = sum(masas_atomicas[aminoacido] for aminoacido in secuencia_proteina.split(\"-\"))\n",
    "\n",
    "print(f'El peso molecular de la proteína es {peso_molecular:.2f} Da')"
   ]
  }
 ],
 "metadata": {
  "kernelspec": {
   "display_name": "Python 3 (ipykernel)",
   "language": "python",
   "name": "python3"
  },
  "language_info": {
   "codemirror_mode": {
    "name": "ipython",
    "version": 3
   },
   "file_extension": ".py",
   "mimetype": "text/x-python",
   "name": "python",
   "nbconvert_exporter": "python",
   "pygments_lexer": "ipython3",
   "version": "3.10.12"
  }
 },
 "nbformat": 4,
 "nbformat_minor": 5
}
