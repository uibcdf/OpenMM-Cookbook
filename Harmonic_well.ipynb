{
 "cells": [
  {
   "cell_type": "markdown",
   "id": "71383bd2-6688-422f-9adc-65094dbfb8b5",
   "metadata": {},
   "source": [
    "# Pozo armónico"
   ]
  },
  {
   "cell_type": "code",
   "execution_count": 1,
   "id": "f0966529-cf47-4ea5-a3bb-15fc07157fdf",
   "metadata": {},
   "outputs": [],
   "source": [
    "import openmm as mm\n",
    "from openmm import unit\n",
    "from openmm import app\n",
    "import numpy as np\n",
    "from matplotlib import pyplot as plt"
   ]
  },
  {
   "cell_type": "markdown",
   "id": "3f0feb9e-47c2-48f0-b153-515cc3880480",
   "metadata": {},
   "source": [
    "## Creamos el sistema"
   ]
  },
  {
   "cell_type": "code",
   "execution_count": 2,
   "id": "388c2408-3c7e-4298-90be-fcd8e200f51c",
   "metadata": {},
   "outputs": [],
   "source": [
    "system = mm.System()"
   ]
  },
  {
   "cell_type": "code",
   "execution_count": 3,
   "id": "1cde0737-cf98-4cb0-b43a-5540d2f04fd3",
   "metadata": {},
   "outputs": [
    {
     "data": {
      "text/plain": [
       "0"
      ]
     },
     "execution_count": 3,
     "metadata": {},
     "output_type": "execute_result"
    }
   ],
   "source": [
    "system.addParticle(39.948 * unit.amu) # masa del átomo de argón"
   ]
  },
  {
   "cell_type": "code",
   "execution_count": 4,
   "id": "5427c2eb-03ca-4925-b386-8ca3c9476988",
   "metadata": {},
   "outputs": [
    {
     "data": {
      "text/plain": [
       "1"
      ]
     },
     "execution_count": 4,
     "metadata": {},
     "output_type": "execute_result"
    }
   ],
   "source": [
    "system.getNumParticles()"
   ]
  },
  {
   "cell_type": "markdown",
   "id": "a4524e3e-efe1-43cc-aa3f-30d087effd6a",
   "metadata": {},
   "source": [
    "# Añadimos el potencial externo"
   ]
  },
  {
   "cell_type": "code",
   "execution_count": 5,
   "id": "a103407b-fff6-4835-817b-2ca8481323a6",
   "metadata": {},
   "outputs": [],
   "source": [
    "force = mm.CustomExternalForce('(K/2.0) * (x^2 + y^2 + z^2)')"
   ]
  },
  {
   "cell_type": "code",
   "execution_count": 6,
   "id": "97fc7ae3-cf85-4c2d-a1b5-c130307eea0d",
   "metadata": {},
   "outputs": [
    {
     "data": {
      "text/plain": [
       "0"
      ]
     },
     "execution_count": 6,
     "metadata": {},
     "output_type": "execute_result"
    }
   ],
   "source": [
    "force.addGlobalParameter('K',  100.0 * unit.kilocalories_per_mole/unit.angstrom**2)"
   ]
  },
  {
   "cell_type": "code",
   "execution_count": 7,
   "id": "34dea497-b4cf-44ff-b805-a8e9909c2ac9",
   "metadata": {},
   "outputs": [
    {
     "data": {
      "text/plain": [
       "0"
      ]
     },
     "execution_count": 7,
     "metadata": {},
     "output_type": "execute_result"
    }
   ],
   "source": [
    "force.addParticle(0)"
   ]
  },
  {
   "cell_type": "code",
   "execution_count": 8,
   "id": "1c895f5d-ebf8-4952-8ab7-9b51a2d18fcf",
   "metadata": {},
   "outputs": [
    {
     "data": {
      "text/plain": [
       "0"
      ]
     },
     "execution_count": 8,
     "metadata": {},
     "output_type": "execute_result"
    }
   ],
   "source": [
    "system.addForce(force)"
   ]
  },
  {
   "cell_type": "markdown",
   "id": "e57dff0f-ee8c-4efe-b4d3-d759ab65c409",
   "metadata": {},
   "source": [
    "## Estado termodinámico"
   ]
  },
  {
   "cell_type": "code",
   "execution_count": 9,
   "id": "88c3fd79-1ac1-4117-a84b-0790f27ba43a",
   "metadata": {},
   "outputs": [],
   "source": [
    "# Formalismo NVT\n",
    "temperature = 0.0*unit.kelvin\n",
    "pressure    = None"
   ]
  },
  {
   "cell_type": "markdown",
   "id": "0d44c2ee-4ac1-45fd-a45b-19ac45362c6e",
   "metadata": {},
   "source": [
    "## Parametros de la simulación"
   ]
  },
  {
   "cell_type": "code",
   "execution_count": 10,
   "id": "61e3f08a-cf66-48ca-9504-57606c29ec12",
   "metadata": {},
   "outputs": [],
   "source": [
    "integration_timestep = 2.0*unit.femtoseconds\n",
    "saving_timestep = 0.01*unit.picoseconds\n",
    "simulation_time = 5*unit.picoseconds\n",
    "\n",
    "saving_steps = int(saving_timestep/integration_timestep)\n",
    "num_saving_steps = int(simulation_time/saving_timestep)"
   ]
  },
  {
   "cell_type": "markdown",
   "id": "d606a663-9ed0-4fbd-a2bf-5648eae37cb6",
   "metadata": {},
   "source": [
    "## Integrador"
   ]
  },
  {
   "cell_type": "code",
   "execution_count": 11,
   "id": "603bd659-893e-4f1b-8cbc-dcadf1c7554a",
   "metadata": {},
   "outputs": [],
   "source": [
    "friction   = 100.0/unit.picosecond\n",
    "integrator = mm.LangevinIntegrator(temperature, friction, integration_timestep)"
   ]
  },
  {
   "cell_type": "markdown",
   "id": "fae2e0e7-74fc-4b40-a789-42f90285a491",
   "metadata": {},
   "source": [
    "## Plataforma"
   ]
  },
  {
   "cell_type": "code",
   "execution_count": 12,
   "id": "e1d35864-4443-489f-a324-b858ebe31693",
   "metadata": {},
   "outputs": [],
   "source": [
    "platform = mm.Platform.getPlatformByName('CUDA')"
   ]
  },
  {
   "cell_type": "markdown",
   "id": "430c3b81-fe57-472c-958d-85a287ae2329",
   "metadata": {},
   "source": [
    "## Reporteros"
   ]
  },
  {
   "cell_type": "code",
   "execution_count": 13,
   "id": "3ceb33ee-93aa-4ec3-8c7e-adbc9485fc0b",
   "metadata": {},
   "outputs": [],
   "source": [
    "times = np.zeros(num_saving_steps, np.float32) * unit.picoseconds\n",
    "positions  = np.zeros([num_saving_steps,3], np.float32) * unit.angstroms\n",
    "velocities = np.zeros([num_saving_steps,3], np.float32) * unit.angstroms/unit.picosecond\n",
    "potential_energies   = np.zeros([num_saving_steps], np.float32) * unit.kilocalories_per_mole\n",
    "kinetic_energies     = np.zeros([num_saving_steps], np.float32) * unit.kilocalories_per_mole"
   ]
  },
  {
   "cell_type": "markdown",
   "id": "a9ea9093-c729-4599-bca9-7d715c6773da",
   "metadata": {},
   "source": [
    "## Condiciones iniciales"
   ]
  },
  {
   "cell_type": "code",
   "execution_count": 14,
   "id": "15c981e7-fdd7-433e-93bd-4755abbd288e",
   "metadata": {},
   "outputs": [],
   "source": [
    "initial_positions  = [[1.0, 0.0, 0.0]] * unit.angstroms"
   ]
  },
  {
   "cell_type": "markdown",
   "id": "9b479469-70e8-4c1a-baf6-fcd92ef86561",
   "metadata": {},
   "source": [
    "## Creamos el contexto"
   ]
  },
  {
   "cell_type": "code",
   "execution_count": 15,
   "id": "cf197c6b-e8ea-47c0-989c-ae26f940c716",
   "metadata": {},
   "outputs": [],
   "source": [
    "context = mm.Context(system, integrator, platform)"
   ]
  },
  {
   "cell_type": "code",
   "execution_count": 16,
   "id": "bd757110-6f32-4448-8353-c6a12c335a50",
   "metadata": {},
   "outputs": [],
   "source": [
    "context.setPositions(initial_positions)"
   ]
  },
  {
   "cell_type": "code",
   "execution_count": 17,
   "id": "dbc27021-1ee5-4969-9e9a-e17f3225e44c",
   "metadata": {},
   "outputs": [],
   "source": [
    "#context.setVelocitiesToTemperature(temperature)"
   ]
  },
  {
   "cell_type": "markdown",
   "id": "fef7b114-edb1-4791-ae0d-574bcf1ceac8",
   "metadata": {},
   "source": [
    "## Llenamos los reporteros para el paso 0"
   ]
  },
  {
   "cell_type": "code",
   "execution_count": 18,
   "id": "d4c87e73-cc4a-44c9-b2f9-30d4fb9614a8",
   "metadata": {},
   "outputs": [],
   "source": [
    "state = context.getState(getEnergy=True, getPositions=True, getVelocities=True)"
   ]
  },
  {
   "cell_type": "code",
   "execution_count": 19,
   "id": "25fc09fe-9802-4398-b46c-73fcd815af94",
   "metadata": {},
   "outputs": [],
   "source": [
    "times[0] =  state.getTime()\n",
    "positions[0] = state.getPositions()[0]\n",
    "velocities[0] = state.getVelocities()[0]\n",
    "kinetic_energies[0]=state.getKineticEnergy()\n",
    "potential_energies[0]=state.getPotentialEnergy()"
   ]
  },
  {
   "cell_type": "markdown",
   "id": "3ca388f5-4953-49d9-8994-6cddbd08c1e6",
   "metadata": {},
   "source": [
    "## Corriendo la simulación"
   ]
  },
  {
   "cell_type": "code",
   "execution_count": 20,
   "id": "66fe0a70-94bc-410a-9ada-91f2ccdb9d16",
   "metadata": {},
   "outputs": [],
   "source": [
    "for ii in range(num_saving_steps):\n",
    "    context.getIntegrator().step(saving_steps)\n",
    "    state_xx = context.getState(getEnergy=True, getPositions=True, getVelocities=True)\n",
    "    times[ii] = state_xx.getTime()\n",
    "    positions[ii] = state_xx.getPositions()[0]\n",
    "    velocities[ii] = state_xx.getVelocities()[0]\n",
    "    kinetic_energies[ii]=state_xx.getKineticEnergy()\n",
    "    potential_energies[ii]=state_xx.getPotentialEnergy()\n",
    "    #print('Paso',ii,'con tiempo', state_xx.getTime())"
   ]
  },
  {
   "cell_type": "markdown",
   "id": "27e1a21e-fc39-4a78-a08f-c6334c7fc3e4",
   "metadata": {},
   "source": [
    "## Representamos los datos de la simulación\n",
    "\n",
    "### Trayectoria"
   ]
  },
  {
   "cell_type": "code",
   "execution_count": 21,
   "id": "b2055bb3-0226-486f-ab0e-b806cd4693d5",
   "metadata": {},
   "outputs": [
    {
     "data": {
      "image/png": "[encoded data removed]",
      "text/plain": [
       "<Figure size 640x480 with 1 Axes>"
      ]
     },
     "metadata": {},
     "output_type": "display_data"
    }
   ],
   "source": [
    "plt.plot(positions[:,0], label='X')\n",
    "plt.legend()\n",
    "plt.show()"
   ]
  },
  {
   "cell_type": "code",
   "execution_count": 22,
   "id": "0ac00333-f47c-4832-8eb5-4ee645c913bb",
   "metadata": {},
   "outputs": [
    {
     "data": {
      "image/png": "[encoded data removed]",
      "text/plain": [
       "<Figure size 640x480 with 1 Axes>"
      ]
     },
     "metadata": {},
     "output_type": "display_data"
    }
   ],
   "source": [
    "plt.plot(positions[:,1], label='Y')\n",
    "plt.legend()\n",
    "plt.show()"
   ]
  },
  {
   "cell_type": "code",
   "execution_count": 23,
   "id": "07a4c6b4-f108-4a55-bdfa-2e7a3be0b0f6",
   "metadata": {},
   "outputs": [
    {
     "data": {
      "image/png": "[encoded data removed]",
      "text/plain": [
       "<Figure size 640x480 with 1 Axes>"
      ]
     },
     "metadata": {},
     "output_type": "display_data"
    }
   ],
   "source": [
    "plt.plot(positions[:,2], label='Z')\n",
    "plt.legend()\n",
    "plt.show()"
   ]
  },
  {
   "cell_type": "markdown",
   "id": "009ce219-1b0e-4302-9c35-c30c87ab7f52",
   "metadata": {},
   "source": [
    "- Qué pasa cuando Temp=0 y fricc=0\n",
    "- Qué pasa cuando Temp=0 y fricc!=0\n",
    "- Qué pasa cuando Temp!=0 y fricc=0\n",
    "- Qué pasa cuando Temp!=0 y fricc!=0"
   ]
  },
  {
   "cell_type": "code",
   "execution_count": null,
   "id": "e9cd2b56-15dc-40d2-8a28-b2e136d2abcc",
   "metadata": {},
   "outputs": [],
   "source": []
  }
 ],
 "metadata": {
  "kernelspec": {
   "display_name": "Python 3 (ipykernel)",
   "language": "python",
   "name": "python3"
  },
  "language_info": {
   "codemirror_mode": {
    "name": "ipython",
    "version": 3
   },
   "file_extension": ".py",
   "mimetype": "text/x-python",
   "name": "python",
   "nbconvert_exporter": "python",
   "pygments_lexer": "ipython3",
   "version": "3.10.12"
  }
 },
 "nbformat": 4,
 "nbformat_minor": 5
}
