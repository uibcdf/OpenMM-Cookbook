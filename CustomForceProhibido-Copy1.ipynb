{
 "cells": [
  {
   "cell_type": "markdown",
   "id": "99aad05a-cb88-4728-a82c-a52e24b80ae8",
   "metadata": {},
   "source": [
    "# Partícula libre en PBC"
   ]
  },
  {
   "cell_type": "code",
   "execution_count": 1,
   "id": "ddb7f4bb-9058-441f-b5b2-44e42c3a228e",
   "metadata": {},
   "outputs": [],
   "source": [
    "import numpy as np\n",
    "from matplotlib import pyplot as plt"
   ]
  },
  {
   "cell_type": "code",
   "execution_count": 2,
   "id": "2a6bc0ad-b9d2-4d04-88f9-dbfb2c3cfbd3",
   "metadata": {},
   "outputs": [],
   "source": [
    "x_serie = np.linspace(-4.0, 4.0, 200)"
   ]
  },
  {
   "cell_type": "code",
   "execution_count": 7,
   "id": "90b1085e-72eb-46ea-a950-f02507aed3a9",
   "metadata": {},
   "outputs": [],
   "source": [
    "def lj(x, sigma):\n",
    "    return (sigma/(x))**12\n"
   ]
  },
  {
   "cell_type": "code",
   "execution_count": 8,
   "id": "cd41c4d9-5de6-45ea-a3b2-cea55d18c6c5",
   "metadata": {},
   "outputs": [],
   "source": [
    "def lj_2(x, sigma):\n",
    "    if x < 0:\n",
    "        return (sigma/(x+4.0))**12\n",
    "    else:\n",
    "        return (sigma/(x-4.0))**12"
   ]
  },
  {
   "cell_type": "code",
   "execution_count": 9,
   "id": "cc084b9f-87d5-4ae6-a4a1-c6080b1226a7",
   "metadata": {},
   "outputs": [
    {
     "name": "stderr",
     "output_type": "stream",
     "text": [
      "/tmp/ipykernel_696713/968276805.py:3: RuntimeWarning: divide by zero encountered in scalar divide\n",
      "  return (sigma/(x+4.0))**12\n",
      "/tmp/ipykernel_696713/968276805.py:5: RuntimeWarning: divide by zero encountered in scalar divide\n",
      "  return (sigma/(x-4.0))**12\n"
     ]
    }
   ],
   "source": [
    "v_serie = []\n",
    "for x in x_serie:\n",
    "    v_serie.append(lj(x, 2.0))\n",
    "\n",
    "v_serie_2 = []\n",
    "for x in x_serie:\n",
    "    v_serie_2.append(lj_2(x, 2.0))"
   ]
  },
  {
   "cell_type": "code",
   "execution_count": 10,
   "id": "aa73bc60-07ce-4e2f-ba84-0a5ea05ecc8a",
   "metadata": {},
   "outputs": [
    {
     "data": {
      "text/plain": [
       "(-0.5, 2.0)"
      ]
     },
     "execution_count": 10,
     "metadata": {},
     "output_type": "execute_result"
    },
    {
     "data": {
      "image/png": "[encoded data removed]",
      "text/plain": [
       "<Figure size 640x480 with 1 Axes>"
      ]
     },
     "metadata": {},
     "output_type": "display_data"
    }
   ],
   "source": [
    "plt.plot(x_serie, v_serie)\n",
    "plt.plot(x_serie, v_serie_2)\n",
    "plt.ylim([-0.5, 2.0])"
   ]
  },
  {
   "cell_type": "code",
   "execution_count": null,
   "id": "e47ec218-1b7d-44bc-8881-b450ed777672",
   "metadata": {},
   "outputs": [],
   "source": []
  },
  {
   "cell_type": "code",
   "execution_count": null,
   "id": "692f9411-70ca-43d4-beed-d13aea91a250",
   "metadata": {},
   "outputs": [],
   "source": [
    "import openmm as mm\n",
    "from openmm import unit\n",
    "from openmm import app\n",
    "import numpy as np\n",
    "from matplotlib import pyplot as plt"
   ]
  },
  {
   "cell_type": "code",
   "execution_count": null,
   "id": "5c970c56-5ed4-4bbd-9288-c7b82e90d146",
   "metadata": {},
   "outputs": [],
   "source": [
    "from tqdm import tqdm"
   ]
  },
  {
   "cell_type": "markdown",
   "id": "3f0feb9e-47c2-48f0-b153-515cc3880480",
   "metadata": {},
   "source": [
    "## Creamos el sistema"
   ]
  },
  {
   "cell_type": "code",
   "execution_count": null,
   "id": "388c2408-3c7e-4298-90be-fcd8e200f51c",
   "metadata": {},
   "outputs": [],
   "source": [
    "system = mm.System()\n",
    "system.addParticle(39.948 * unit.amu) # masa del átomo de argón"
   ]
  },
  {
   "cell_type": "markdown",
   "id": "29c2334f-d7d8-40b3-a180-a33dec0fc67b",
   "metadata": {},
   "source": [
    "## Creamos el potencial externo"
   ]
  },
  {
   "cell_type": "code",
   "execution_count": null,
   "id": "3d3f62b0-cfb9-40d3-aad7-9d56f57a4d89",
   "metadata": {},
   "outputs": [],
   "source": [
    "force = mm.CustomExternalForce('(A / periodicdistance(0, 0, z, 0, 0, z0))^B')\n",
    "force.addGlobalParameter('A',  2.0 * unit.nanometers)\n",
    "force.addGlobalParameter('B',  12)\n",
    "force.addGlobalParameter('z0',  0.0 * unit.nanometers)\n",
    "force.addParticle(0)\n",
    "system.addForce(force)"
   ]
  },
  {
   "cell_type": "code",
   "execution_count": null,
   "id": "1c000add-55eb-45db-bcb2-3c83cdec29d5",
   "metadata": {},
   "outputs": [],
   "source": [
    "if False:\n",
    "    platform = mm.Platform.getPlatformByName('CPU')\n",
    "    friction   = 5.0/unit.picoseconds\n",
    "    integrator = mm.LangevinIntegrator(0.0*unit.kelvin, friction, 2.0*unit.femtoseconds)\n",
    "    context = mm.Context(system, integrator, platform)\n",
    "    L = 8.0\n",
    "    v1 = [L,0,0] * unit.nanometers\n",
    "    v2 = [0,L,0] * unit.nanometers\n",
    "    v3 = [0,0,L] * unit.nanometers\n",
    "    L = L * unit.nanometers\n",
    "    context.setPeriodicBoxVectors(v1, v2, v3)\n",
    "\n",
    "    serie_z = np.linspace(-4.0,4.0,200)\n",
    "    serie_E =[]\n",
    "\n",
    "    for z in serie_z:\n",
    "        context.setPositions([[0.0, 0.0, z]] * unit.nanometers)\n",
    "        E = context.getState(getEnergy=True).getPotentialEnergy()._value\n",
    "        serie_E.append(E)\n",
    "\n",
    "    plt.plot(serie_z, serie_E)\n",
    "    plt.ylim([-0.5,100])"
   ]
  },
  {
   "cell_type": "markdown",
   "id": "e57dff0f-ee8c-4efe-b4d3-d759ab65c409",
   "metadata": {},
   "source": [
    "## Estado termodinámico"
   ]
  },
  {
   "cell_type": "code",
   "execution_count": null,
   "id": "88c3fd79-1ac1-4117-a84b-0790f27ba43a",
   "metadata": {},
   "outputs": [],
   "source": [
    "# Formalismo NVT\n",
    "temperature = 300*unit.kelvin\n",
    "pressure    = None"
   ]
  },
  {
   "cell_type": "markdown",
   "id": "0d44c2ee-4ac1-45fd-a45b-19ac45362c6e",
   "metadata": {},
   "source": [
    "## Parametros de la simulación"
   ]
  },
  {
   "cell_type": "code",
   "execution_count": null,
   "id": "61e3f08a-cf66-48ca-9504-57606c29ec12",
   "metadata": {},
   "outputs": [],
   "source": [
    "integration_timestep = 2.0*unit.femtoseconds\n",
    "saving_timestep = 1.00*unit.picoseconds\n",
    "simulation_time = 2500.*unit.picoseconds\n",
    "\n",
    "saving_steps = int(saving_timestep/integration_timestep)\n",
    "num_saving_steps = int(simulation_time/saving_timestep)"
   ]
  },
  {
   "cell_type": "markdown",
   "id": "d606a663-9ed0-4fbd-a2bf-5648eae37cb6",
   "metadata": {},
   "source": [
    "## Integrador"
   ]
  },
  {
   "cell_type": "code",
   "execution_count": null,
   "id": "603bd659-893e-4f1b-8cbc-dcadf1c7554a",
   "metadata": {},
   "outputs": [],
   "source": [
    "friction   = 5.0/unit.picoseconds\n",
    "integrator = mm.LangevinIntegrator(temperature, friction, integration_timestep)"
   ]
  },
  {
   "cell_type": "markdown",
   "id": "fae2e0e7-74fc-4b40-a789-42f90285a491",
   "metadata": {},
   "source": [
    "## Plataforma"
   ]
  },
  {
   "cell_type": "code",
   "execution_count": null,
   "id": "e1d35864-4443-489f-a324-b858ebe31693",
   "metadata": {},
   "outputs": [],
   "source": [
    "platform = mm.Platform.getPlatformByName('CPU')"
   ]
  },
  {
   "cell_type": "markdown",
   "id": "430c3b81-fe57-472c-958d-85a287ae2329",
   "metadata": {},
   "source": [
    "## Reporteros"
   ]
  },
  {
   "cell_type": "code",
   "execution_count": null,
   "id": "3ceb33ee-93aa-4ec3-8c7e-adbc9485fc0b",
   "metadata": {},
   "outputs": [],
   "source": [
    "times = np.zeros(num_saving_steps, np.float32) * unit.picoseconds\n",
    "positions  = np.zeros([num_saving_steps,3], np.float32) * unit.angstroms\n",
    "velocities = np.zeros([num_saving_steps,3], np.float32) * unit.angstroms/unit.picosecond\n",
    "potential_energies   = np.zeros([num_saving_steps], np.float32) * unit.kilocalories_per_mole\n",
    "kinetic_energies     = np.zeros([num_saving_steps], np.float32) * unit.kilocalories_per_mole"
   ]
  },
  {
   "cell_type": "markdown",
   "id": "a9ea9093-c729-4599-bca9-7d715c6773da",
   "metadata": {},
   "source": [
    "## Condiciones iniciales"
   ]
  },
  {
   "cell_type": "code",
   "execution_count": null,
   "id": "15c981e7-fdd7-433e-93bd-4755abbd288e",
   "metadata": {},
   "outputs": [],
   "source": [
    "initial_positions  = [[0.0, 0.0, 4.0]] * unit.nanometers"
   ]
  },
  {
   "cell_type": "markdown",
   "id": "9b479469-70e8-4c1a-baf6-fcd92ef86561",
   "metadata": {},
   "source": [
    "## Creamos el contexto"
   ]
  },
  {
   "cell_type": "code",
   "execution_count": null,
   "id": "cf197c6b-e8ea-47c0-989c-ae26f940c716",
   "metadata": {},
   "outputs": [],
   "source": [
    "context = mm.Context(system, integrator, platform)\n",
    "context.setPositions(initial_positions)"
   ]
  },
  {
   "cell_type": "code",
   "execution_count": null,
   "id": "81b9cebf-28ba-426c-9ef6-743b47845ae4",
   "metadata": {},
   "outputs": [],
   "source": [
    "L = 8.0\n",
    "v1 = [L,0,0] * unit.nanometers\n",
    "v2 = [0,L,0] * unit.nanometers\n",
    "v3 = [0,0,L] * unit.nanometers\n",
    "L = L * unit.nanometers\n",
    "context.setPeriodicBoxVectors(v1, v2, v3)"
   ]
  },
  {
   "cell_type": "markdown",
   "id": "fef7b114-edb1-4791-ae0d-574bcf1ceac8",
   "metadata": {},
   "source": [
    "## Llenamos los reporteros para el paso 0"
   ]
  },
  {
   "cell_type": "code",
   "execution_count": null,
   "id": "d4c87e73-cc4a-44c9-b2f9-30d4fb9614a8",
   "metadata": {},
   "outputs": [],
   "source": [
    "state = context.getState(getEnergy=True, getPositions=True, getVelocities=True)"
   ]
  },
  {
   "cell_type": "code",
   "execution_count": null,
   "id": "25fc09fe-9802-4398-b46c-73fcd815af94",
   "metadata": {},
   "outputs": [],
   "source": [
    "times[0] =  state.getTime()\n",
    "positions[0] = state.getPositions()[0]\n",
    "velocities[0] = state.getVelocities()[0]\n",
    "kinetic_energies[0]=state.getKineticEnergy()\n",
    "potential_energies[0]=state.getPotentialEnergy()"
   ]
  },
  {
   "cell_type": "markdown",
   "id": "3ca388f5-4953-49d9-8994-6cddbd08c1e6",
   "metadata": {},
   "source": [
    "## Corriendo la simulación"
   ]
  },
  {
   "cell_type": "code",
   "execution_count": null,
   "id": "66fe0a70-94bc-410a-9ada-91f2ccdb9d16",
   "metadata": {},
   "outputs": [],
   "source": [
    "for ii in tqdm(range(1,num_saving_steps)):\n",
    "    context.getIntegrator().step(saving_steps)\n",
    "    state_xx = context.getState(getEnergy=True, getPositions=True, getVelocities=True)\n",
    "    times[ii] = state_xx.getTime()\n",
    "    positions[ii] = state_xx.getPositions()[0]\n",
    "    velocities[ii] = state_xx.getVelocities()[0]\n",
    "    kinetic_energies[ii]=state_xx.getKineticEnergy()\n",
    "    potential_energies[ii]=state_xx.getPotentialEnergy()"
   ]
  },
  {
   "cell_type": "markdown",
   "id": "27e1a21e-fc39-4a78-a08f-c6334c7fc3e4",
   "metadata": {},
   "source": [
    "## Representamos los datos de la simulación\n",
    "\n",
    "### Trayectoria"
   ]
  },
  {
   "cell_type": "code",
   "execution_count": null,
   "id": "b2055bb3-0226-486f-ab0e-b806cd4693d5",
   "metadata": {},
   "outputs": [],
   "source": [
    "plt.plot(positions[:,0], label='X')\n",
    "plt.plot(positions[:,1], label='Y')\n",
    "plt.plot(positions[:,2], label='Z')\n",
    "plt.legend()\n",
    "plt.show()"
   ]
  },
  {
   "cell_type": "code",
   "execution_count": null,
   "id": "22a5ddfa-fc91-4522-876e-0bdd74a27e94",
   "metadata": {},
   "outputs": [],
   "source": []
  }
 ],
 "metadata": {
  "kernelspec": {
   "display_name": "Python 3 (ipykernel)",
   "language": "python",
   "name": "python3"
  },
  "language_info": {
   "codemirror_mode": {
    "name": "ipython",
    "version": 3
   },
   "file_extension": ".py",
   "mimetype": "text/x-python",
   "name": "python",
   "nbconvert_exporter": "python",
   "pygments_lexer": "ipython3",
   "version": "3.10.12"
  }
 },
 "nbformat": 4,
 "nbformat_minor": 5
}
